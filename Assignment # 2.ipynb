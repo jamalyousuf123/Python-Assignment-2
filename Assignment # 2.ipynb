{
 "cells": [
  {
   "cell_type": "code",
   "execution_count": 1,
   "metadata": {},
   "outputs": [
    {
     "name": "stdout",
     "output_type": "stream",
     "text": [
      "*** MARKSHEET GRADING MACHINCE ***\n",
      "\n",
      "Enter Mathematics marks: 55\n",
      "Enter English marks: 70\n",
      "Enter Urdu marks: 65\n",
      "Enter Computer marks: 80\n",
      "Enter Physics marks: 75\n",
      "\n",
      "Your Percentage is:  69.0\n",
      "Grade: B\n"
     ]
    }
   ],
   "source": [
    "print (\"*** MARKSHEET GRADING MACHINCE ***\\n\")\n",
    "math = float(input (\"Enter Mathematics marks: \"))\n",
    "eng = float(input (\"Enter English marks: \"))\n",
    "urdu = float(input (\"Enter Urdu marks: \"))\n",
    "comp = float(input (\"Enter Computer marks: \"))\n",
    "phy = float(input (\"Enter Physics marks: \"))\n",
    "\n",
    "sum = math+eng+urdu+comp+phy \n",
    "percent = (sum/500)*100\n",
    "print (\"\\nYour Percentage is: \",percent)\n",
    "\n",
    "if percent>= 80:\n",
    "    print(\"Grade: A+\")\n",
    "elif percent>=70 and percent<80:\n",
    "    print (\"Grade: A\")\n",
    "elif percent>=60 and percent<70:\n",
    "    print (\"Grade: B\")\n",
    "elif percent>=50 and percent<60:\n",
    "    print (\"Grade: C\")\n",
    "elif percent>=45 and percent<45:\n",
    "    print (\"Grade: D\")\n",
    "else :\n",
    "    print (\"Fail\")"
   ]
  },
  {
   "cell_type": "code",
   "execution_count": 2,
   "metadata": {},
   "outputs": [
    {
     "name": "stdout",
     "output_type": "stream",
     "text": [
      "** Machine to Find wether the number is odd or even **\n",
      "\n",
      "Enter the number: 57\n",
      "Number is odd\n"
     ]
    }
   ],
   "source": [
    "print (\"** Machine to Find wether the number is odd or even **\\n\")\n",
    "\n",
    "while True:\n",
    "    try:\n",
    "       num = int(input(\"Enter the number: \"))\n",
    "       break\n",
    "    except:\n",
    "        print (\"Type numbers only\")\n",
    "\n",
    "even = num%2\n",
    "if even==0:\n",
    "    print (\"Number is Even\")\n",
    "    \n",
    "else:\n",
    "    print (\"Number is odd\")"
   ]
  },
  {
   "cell_type": "code",
   "execution_count": null,
   "metadata": {},
   "outputs": [],
   "source": [
    "lst = []\n",
    "num = int(input(' How many numbers: '))\n",
    "for n in range(num):\n",
    "    numbers = int(input('Enter number '))\n",
    "    lst.append(numbers)\n",
    "    print(\"Sum of elements in given list is : \", sum(lst))\n",
    "    "
   ]
  },
  {
   "cell_type": "code",
   "execution_count": 3,
   "metadata": {},
   "outputs": [
    {
     "name": "stdout",
     "output_type": "stream",
     "text": [
      "1\n",
      "1\n",
      "2\n",
      "3\n"
     ]
    }
   ],
   "source": [
    "list = [1,1,2,3,5,8,13,21,34,55,89,]\n",
    "\n",
    "total = 0\n",
    "for ele in range(0, len(list)): \n",
    "    if list[ele] <5:\n",
    "        print (list[ele])"
   ]
  },
  {
   "cell_type": "code",
   "execution_count": 4,
   "metadata": {},
   "outputs": [
    {
     "name": "stdout",
     "output_type": "stream",
     "text": [
      "the largest number is:  88\n"
     ]
    }
   ],
   "source": [
    "nums =[22,77,88,66,55,22]\n",
    "\n",
    "print (\"the largest number is: \",max(nums))"
   ]
  },
  {
   "cell_type": "code",
   "execution_count": null,
   "metadata": {},
   "outputs": [],
   "source": []
  }
 ],
 "metadata": {
  "kernelspec": {
   "display_name": "Python 3",
   "language": "python",
   "name": "python3"
  },
  "language_info": {
   "codemirror_mode": {
    "name": "ipython",
    "version": 3
   },
   "file_extension": ".py",
   "mimetype": "text/x-python",
   "name": "python",
   "nbconvert_exporter": "python",
   "pygments_lexer": "ipython3",
   "version": "3.7.4"
  }
 },
 "nbformat": 4,
 "nbformat_minor": 2
}
